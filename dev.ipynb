{
 "cells": [
  {
   "cell_type": "code",
   "execution_count": 77,
   "metadata": {},
   "outputs": [
    {
     "name": "stdout",
     "output_type": "stream",
     "text": [
      "The autoreload extension is already loaded. To reload it, use:\n",
      "  %reload_ext autoreload\n"
     ]
    }
   ],
   "source": [
    "%load_ext autoreload\n",
    "%autoreload 2\n",
    "\n",
    "from sklearn import datasets, linear_model\n",
    "from sklearn.metrics import mean_squared_error, r2_score\n",
    "from sklearn.datasets import fetch_california_housing\n",
    "import pandas as pd\n",
    "import torch\n",
    "\n",
    "from torch_ols.regression import MultipleLinearRegression"
   ]
  },
  {
   "cell_type": "code",
   "execution_count": 147,
   "metadata": {},
   "outputs": [],
   "source": [
    "def sklearn_to_df(data_loader):\n",
    "    X_data = data_loader.data\n",
    "    X_columns = data_loader.feature_names\n",
    "    X = pd.DataFrame(X_data, columns=X_columns)\n",
    "\n",
    "    y_data = data_loader.target\n",
    "    y = pd.Series(y_data, name='target')\n",
    "\n",
    "    return X, y\n",
    "\n",
    "x, y = sklearn_to_df(fetch_california_housing())\n",
    "x_tr = x[0:20]\n",
    "y_tr = y[0:20]\n",
    "x_te = x[20:40]\n",
    "y_te = y[20:40]"
   ]
  },
  {
   "cell_type": "code",
   "execution_count": 171,
   "metadata": {},
   "outputs": [
    {
     "data": {
      "text/html": [
       "<div>\n",
       "<style scoped>\n",
       "    .dataframe tbody tr th:only-of-type {\n",
       "        vertical-align: middle;\n",
       "    }\n",
       "\n",
       "    .dataframe tbody tr th {\n",
       "        vertical-align: top;\n",
       "    }\n",
       "\n",
       "    .dataframe thead th {\n",
       "        text-align: right;\n",
       "    }\n",
       "</style>\n",
       "<table border=\"1\" class=\"dataframe\">\n",
       "  <thead>\n",
       "    <tr style=\"text-align: right;\">\n",
       "      <th></th>\n",
       "      <th></th>\n",
       "      <th>coefficient</th>\n",
       "    </tr>\n",
       "  </thead>\n",
       "  <tbody>\n",
       "    <tr>\n",
       "      <th>0</th>\n",
       "      <td>intercept</td>\n",
       "      <td>3056.204742</td>\n",
       "    </tr>\n",
       "    <tr>\n",
       "      <th>1</th>\n",
       "      <td>MedInc</td>\n",
       "      <td>0.271542</td>\n",
       "    </tr>\n",
       "    <tr>\n",
       "      <th>2</th>\n",
       "      <td>HouseAge</td>\n",
       "      <td>0.034285</td>\n",
       "    </tr>\n",
       "    <tr>\n",
       "      <th>3</th>\n",
       "      <td>AveRooms</td>\n",
       "      <td>0.100678</td>\n",
       "    </tr>\n",
       "    <tr>\n",
       "      <th>4</th>\n",
       "      <td>AveBedrms</td>\n",
       "      <td>1.319925</td>\n",
       "    </tr>\n",
       "    <tr>\n",
       "      <th>5</th>\n",
       "      <td>Population</td>\n",
       "      <td>-0.000076</td>\n",
       "    </tr>\n",
       "    <tr>\n",
       "      <th>6</th>\n",
       "      <td>AveOccup</td>\n",
       "      <td>-0.777602</td>\n",
       "    </tr>\n",
       "    <tr>\n",
       "      <th>7</th>\n",
       "      <td>Latitude</td>\n",
       "      <td>9.128075</td>\n",
       "    </tr>\n",
       "    <tr>\n",
       "      <th>8</th>\n",
       "      <td>Longitude</td>\n",
       "      <td>27.827264</td>\n",
       "    </tr>\n",
       "    <tr>\n",
       "      <th>0</th>\n",
       "      <td>--</td>\n",
       "      <td>value</td>\n",
       "    </tr>\n",
       "    <tr>\n",
       "      <th>1</th>\n",
       "      <td>Fit R^2</td>\n",
       "      <td>0.866563</td>\n",
       "    </tr>\n",
       "  </tbody>\n",
       "</table>\n",
       "</div>"
      ],
      "text/plain": [
       "               coefficient\n",
       "0   intercept  3056.204742\n",
       "1      MedInc     0.271542\n",
       "2    HouseAge     0.034285\n",
       "3    AveRooms     0.100678\n",
       "4   AveBedrms     1.319925\n",
       "5  Population    -0.000076\n",
       "6    AveOccup    -0.777602\n",
       "7    Latitude     9.128075\n",
       "8   Longitude    27.827264\n",
       "0          --        value\n",
       "1     Fit R^2     0.866563"
      ]
     },
     "execution_count": 171,
     "metadata": {},
     "output_type": "execute_result"
    }
   ],
   "source": [
    "torch_mlr = MultipleLinearRegression()\n",
    "torch_mlr.fit(x_tr, y_tr)\n",
    "# torch_mlr.coefficients, torch_mlr.intercept\n",
    "torch_mlr.summary()"
   ]
  },
  {
   "cell_type": "code",
   "execution_count": 181,
   "metadata": {},
   "outputs": [
    {
     "name": "stdout",
     "output_type": "stream",
     "text": [
      "Test R^2 = -0.5599763059770908\n"
     ]
    }
   ],
   "source": [
    "preds = torch_mlr.predict(x_te)\n",
    "torch_r2 = torch_mlr.r2_score(y_true=y_te, y_pred=preds)\n",
    "\n",
    "print(f\"Test R^2 = {torch_r2}\")"
   ]
  },
  {
   "cell_type": "markdown",
   "metadata": {},
   "source": [
    "# sklearn comparison"
   ]
  },
  {
   "cell_type": "code",
   "execution_count": 175,
   "metadata": {},
   "outputs": [
    {
     "data": {
      "text/plain": [
       "(array([ 2.71541711e-01,  3.42853698e-02,  1.00678079e-01,  1.31992520e+00,\n",
       "        -7.62242038e-05, -7.77602299e-01,  9.12807598e+00,  2.78272647e+01]),\n",
       " 3056.2047997132613)"
      ]
     },
     "execution_count": 175,
     "metadata": {},
     "output_type": "execute_result"
    }
   ],
   "source": [
    "sk_mlr = linear_model.LinearRegression()\n",
    "sk_mlr.fit(x_tr, y_tr)\n",
    "sk_mlr.coef_, sk_mlr.intercept_"
   ]
  },
  {
   "cell_type": "code",
   "execution_count": 179,
   "metadata": {},
   "outputs": [
    {
     "name": "stdout",
     "output_type": "stream",
     "text": [
      "Sklearn Test R^2 = -0.5599762610088288\n"
     ]
    }
   ],
   "source": [
    "sk_preds = sk_mlr.predict(x_te)\n",
    "sk_r2 = sk_mlr.score(x_te, y_te)\n",
    "print(f\"Sklearn Test R^2 = {sk_r2}\")"
   ]
  }
 ],
 "metadata": {
  "kernelspec": {
   "display_name": "Python 3.10.4 ('.venv': venv)",
   "language": "python",
   "name": "python3"
  },
  "language_info": {
   "codemirror_mode": {
    "name": "ipython",
    "version": 3
   },
   "file_extension": ".py",
   "mimetype": "text/x-python",
   "name": "python",
   "nbconvert_exporter": "python",
   "pygments_lexer": "ipython3",
   "version": "3.10.4"
  },
  "orig_nbformat": 4,
  "vscode": {
   "interpreter": {
    "hash": "f1452af09afd32654de734d2a072d3f099472589d14c34a7ad3201b4eea227f9"
   }
  }
 },
 "nbformat": 4,
 "nbformat_minor": 2
}
