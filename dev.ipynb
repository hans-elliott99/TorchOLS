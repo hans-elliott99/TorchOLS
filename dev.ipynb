{
 "cells": [
  {
   "cell_type": "code",
   "execution_count": 159,
   "metadata": {},
   "outputs": [
    {
     "name": "stdout",
     "output_type": "stream",
     "text": [
      "The autoreload extension is already loaded. To reload it, use:\n",
      "  %reload_ext autoreload\n"
     ]
    }
   ],
   "source": [
    "%load_ext autoreload\n",
    "%autoreload 2\n",
    "\n",
    "from sklearn import datasets, linear_model\n",
    "from sklearn.metrics import mean_squared_error, r2_score\n",
    "from sklearn.datasets import fetch_california_housing\n",
    "import pandas as pd\n",
    "import torch\n",
    "\n",
    "from torch_ols.regression import LinearRegression"
   ]
  },
  {
   "cell_type": "code",
   "execution_count": 160,
   "metadata": {},
   "outputs": [],
   "source": [
    "# dataloader\n",
    "def sklearn_to_df(data_loader):\n",
    "    # y = average house value in units of 100,000\n",
    "    # X = potential predictors of y\n",
    "\n",
    "    X_data = data_loader.data\n",
    "    X_columns = data_loader.feature_names\n",
    "    X = pd.DataFrame(X_data, columns=X_columns)\n",
    "\n",
    "    y_data = data_loader.target\n",
    "    y = pd.Series(y_data, name='target')\n",
    "\n",
    "    return X, y"
   ]
  },
  {
   "cell_type": "code",
   "execution_count": 162,
   "metadata": {},
   "outputs": [
    {
     "name": "stdout",
     "output_type": "stream",
     "text": [
      "cpu cpu\n"
     ]
    }
   ],
   "source": [
    "cpu = torch.device(\"cpu\")\n",
    "gpu = torch.device(\"cuda:0\" if torch.cuda.is_available() else \"cpu\")\n",
    "print(cpu, gpu)"
   ]
  },
  {
   "cell_type": "markdown",
   "metadata": {},
   "source": [
    "---\n",
    "# Simple Linear Regression"
   ]
  },
  {
   "cell_type": "code",
   "execution_count": 54,
   "metadata": {},
   "outputs": [],
   "source": [
    "# Use just one variable as predictor\n",
    "x, y = sklearn_to_df(fetch_california_housing()) \n",
    "##toy dataset. y = average house value in units of 100,000\n",
    "x = x[['MedInc']] \n",
    "\n",
    "div = int(len(x)*0.5)\n",
    "end = None\n",
    "x_tr = x[:div]\n",
    "y_tr = y[:div]\n",
    "x_te = x[div:end]\n",
    "y_te = y[div:end]"
   ]
  },
  {
   "cell_type": "markdown",
   "metadata": {},
   "source": [
    "## Coefficients"
   ]
  },
  {
   "cell_type": "code",
   "execution_count": 139,
   "metadata": {},
   "outputs": [
    {
     "name": "stdout",
     "output_type": "stream",
     "text": [
      "TORCH\n",
      "False False\n"
     ]
    },
    {
     "data": {
      "text/html": [
       "<div>\n",
       "<style scoped>\n",
       "    .dataframe tbody tr th:only-of-type {\n",
       "        vertical-align: middle;\n",
       "    }\n",
       "\n",
       "    .dataframe tbody tr th {\n",
       "        vertical-align: top;\n",
       "    }\n",
       "\n",
       "    .dataframe thead th {\n",
       "        text-align: right;\n",
       "    }\n",
       "</style>\n",
       "<table border=\"1\" class=\"dataframe\">\n",
       "  <thead>\n",
       "    <tr style=\"text-align: right;\">\n",
       "      <th></th>\n",
       "      <th></th>\n",
       "      <th>coefficient</th>\n",
       "    </tr>\n",
       "  </thead>\n",
       "  <tbody>\n",
       "    <tr>\n",
       "      <th>0</th>\n",
       "      <td>intercept</td>\n",
       "      <td>0.481262</td>\n",
       "    </tr>\n",
       "    <tr>\n",
       "      <th>1</th>\n",
       "      <td>MedInc</td>\n",
       "      <td>0.419849</td>\n",
       "    </tr>\n",
       "    <tr>\n",
       "      <th>0</th>\n",
       "      <td>--</td>\n",
       "      <td>score</td>\n",
       "    </tr>\n",
       "    <tr>\n",
       "      <th>1</th>\n",
       "      <td>R^2</td>\n",
       "      <td>0.484937</td>\n",
       "    </tr>\n",
       "    <tr>\n",
       "      <th>2</th>\n",
       "      <td>Adj. R^2</td>\n",
       "      <td>0.484937</td>\n",
       "    </tr>\n",
       "  </tbody>\n",
       "</table>\n",
       "</div>"
      ],
      "text/plain": [
       "             coefficient\n",
       "0  intercept    0.481262\n",
       "1     MedInc    0.419849\n",
       "0         --       score\n",
       "1        R^2    0.484937\n",
       "2   Adj. R^2    0.484937"
      ]
     },
     "execution_count": 139,
     "metadata": {},
     "output_type": "execute_result"
    }
   ],
   "source": [
    "print(\"TORCH\")\n",
    "torch_slr = LinearRegression(device=cpu)\n",
    "torch_slr.fit(x_tr, y_tr)\n",
    "torch_slr.summary()"
   ]
  },
  {
   "cell_type": "code",
   "execution_count": 140,
   "metadata": {},
   "outputs": [
    {
     "name": "stdout",
     "output_type": "stream",
     "text": [
      "SKLEARN\n"
     ]
    },
    {
     "data": {
      "text/plain": [
       "{'intercept': 0.4812621396162051, 'MedInc': 0.4198487357383301}"
      ]
     },
     "execution_count": 140,
     "metadata": {},
     "output_type": "execute_result"
    }
   ],
   "source": [
    "print(\"SKLEARN\")\n",
    "sk_slr = linear_model.LinearRegression()\n",
    "sk_slr.fit(x_tr, y_tr)\n",
    "{\"intercept\": sk_slr.intercept_.item(), \"MedInc\": sk_slr.coef_.item()}"
   ]
  },
  {
   "cell_type": "markdown",
   "metadata": {},
   "source": [
    "## Predictions & Test R^2"
   ]
  },
  {
   "cell_type": "code",
   "execution_count": 142,
   "metadata": {},
   "outputs": [
    {
     "name": "stdout",
     "output_type": "stream",
     "text": [
      "TorchOLS:\t Test R^2 = 0.4594688335880929,\t Adjusted R^2 = 0.4594688335880929\n"
     ]
    }
   ],
   "source": [
    "preds = torch_slr.predict(x_te)\n",
    "r2, adj_r2 = torch_slr.r2_score(y_true=y_te, y_pred=preds)\n",
    "\n",
    "print(f\"TorchOLS:\\t Test R^2 = {r2},\\t Adjusted R^2 = {adj_r2}\")"
   ]
  },
  {
   "cell_type": "code",
   "execution_count": 143,
   "metadata": {},
   "outputs": [
    {
     "name": "stdout",
     "output_type": "stream",
     "text": [
      "Sklearn:\t Test R^2 = 0.4594688335880929,\t Adjusted R^2 = 0.4594688335880929\n"
     ]
    }
   ],
   "source": [
    "sk_preds = sk_slr.predict(x_te)\n",
    "sk_r2 = sk_slr.score(x_te, y_te)\n",
    "print(f\"Sklearn:\\t Test R^2 = {sk_r2},\\t Adjusted R^2 = {1 - (1 - sk_r2) * ((x_te.shape[0] - 1) / (x_te.shape[0] - x_te.shape[1]))}\")"
   ]
  },
  {
   "cell_type": "markdown",
   "metadata": {},
   "source": [
    "___\n",
    "# Multiple Linear Regression"
   ]
  },
  {
   "cell_type": "code",
   "execution_count": 144,
   "metadata": {},
   "outputs": [],
   "source": [
    "# Use all the variables as predictors\n",
    "x, y = sklearn_to_df(fetch_california_housing()) \n",
    "##toy dataset. y = average house value in units of 100,000\n",
    "\n",
    "div = int(len(x)*0.5)\n",
    "end = None\n",
    "x_tr = x[:div]\n",
    "y_tr = y[:div]\n",
    "x_te = x[div:end]\n",
    "y_te = y[div:end]"
   ]
  },
  {
   "cell_type": "markdown",
   "metadata": {},
   "source": [
    "## Coefficients"
   ]
  },
  {
   "cell_type": "code",
   "execution_count": 146,
   "metadata": {},
   "outputs": [
    {
     "name": "stdout",
     "output_type": "stream",
     "text": [
      "TORCH\n",
      "False False\n"
     ]
    },
    {
     "data": {
      "text/html": [
       "<div>\n",
       "<style scoped>\n",
       "    .dataframe tbody tr th:only-of-type {\n",
       "        vertical-align: middle;\n",
       "    }\n",
       "\n",
       "    .dataframe tbody tr th {\n",
       "        vertical-align: top;\n",
       "    }\n",
       "\n",
       "    .dataframe thead th {\n",
       "        text-align: right;\n",
       "    }\n",
       "</style>\n",
       "<table border=\"1\" class=\"dataframe\">\n",
       "  <thead>\n",
       "    <tr style=\"text-align: right;\">\n",
       "      <th></th>\n",
       "      <th></th>\n",
       "      <th>coefficient</th>\n",
       "    </tr>\n",
       "  </thead>\n",
       "  <tbody>\n",
       "    <tr>\n",
       "      <th>0</th>\n",
       "      <td>intercept</td>\n",
       "      <td>-28.871818</td>\n",
       "    </tr>\n",
       "    <tr>\n",
       "      <th>1</th>\n",
       "      <td>MedInc</td>\n",
       "      <td>0.449446</td>\n",
       "    </tr>\n",
       "    <tr>\n",
       "      <th>2</th>\n",
       "      <td>HouseAge</td>\n",
       "      <td>0.005251</td>\n",
       "    </tr>\n",
       "    <tr>\n",
       "      <th>3</th>\n",
       "      <td>AveRooms</td>\n",
       "      <td>-0.115188</td>\n",
       "    </tr>\n",
       "    <tr>\n",
       "      <th>4</th>\n",
       "      <td>AveBedrms</td>\n",
       "      <td>0.649832</td>\n",
       "    </tr>\n",
       "    <tr>\n",
       "      <th>5</th>\n",
       "      <td>Population</td>\n",
       "      <td>-0.000004</td>\n",
       "    </tr>\n",
       "    <tr>\n",
       "      <th>6</th>\n",
       "      <td>AveOccup</td>\n",
       "      <td>-0.007494</td>\n",
       "    </tr>\n",
       "    <tr>\n",
       "      <th>7</th>\n",
       "      <td>Latitude</td>\n",
       "      <td>-0.41276</td>\n",
       "    </tr>\n",
       "    <tr>\n",
       "      <th>8</th>\n",
       "      <td>Longitude</td>\n",
       "      <td>-0.365412</td>\n",
       "    </tr>\n",
       "    <tr>\n",
       "      <th>0</th>\n",
       "      <td>--</td>\n",
       "      <td>score</td>\n",
       "    </tr>\n",
       "    <tr>\n",
       "      <th>1</th>\n",
       "      <td>R^2</td>\n",
       "      <td>0.594306</td>\n",
       "    </tr>\n",
       "    <tr>\n",
       "      <th>2</th>\n",
       "      <td>Adj. R^2</td>\n",
       "      <td>0.594031</td>\n",
       "    </tr>\n",
       "  </tbody>\n",
       "</table>\n",
       "</div>"
      ],
      "text/plain": [
       "              coefficient\n",
       "0   intercept  -28.871818\n",
       "1      MedInc    0.449446\n",
       "2    HouseAge    0.005251\n",
       "3    AveRooms   -0.115188\n",
       "4   AveBedrms    0.649832\n",
       "5  Population   -0.000004\n",
       "6    AveOccup   -0.007494\n",
       "7    Latitude    -0.41276\n",
       "8   Longitude   -0.365412\n",
       "0          --       score\n",
       "1         R^2    0.594306\n",
       "2    Adj. R^2    0.594031"
      ]
     },
     "execution_count": 146,
     "metadata": {},
     "output_type": "execute_result"
    }
   ],
   "source": [
    "print(\"TORCH\")\n",
    "torch_mlr = LinearRegression(device=cpu)\n",
    "torch_mlr.fit(x_tr, y_tr)\n",
    "# torch_mlr.coefficients, torch_mlr.intercept\n",
    "torch_mlr.summary()"
   ]
  },
  {
   "cell_type": "code",
   "execution_count": 153,
   "metadata": {},
   "outputs": [
    {
     "name": "stdout",
     "output_type": "stream",
     "text": [
      "SKLEARN\n"
     ]
    },
    {
     "data": {
      "text/plain": [
       "{'intercept': -28.871818045412475,\n",
       " 'coefs': {'MedInc': 0.4494456752691039,\n",
       "  'HouseAge': 0.005251468965176776,\n",
       "  'AveRooms': -0.1151879647470256,\n",
       "  'AveBedrms': 0.6498316037875798,\n",
       "  'Population': -4.428311747297145e-06,\n",
       "  'AveOccup': -0.00749431094243891,\n",
       "  'Latitude': -0.41276023907180504,\n",
       "  'Longitude': -0.36541182697464963}}"
      ]
     },
     "execution_count": 153,
     "metadata": {},
     "output_type": "execute_result"
    }
   ],
   "source": [
    "print(\"SKLEARN\")\n",
    "sk_mlr = linear_model.LinearRegression()\n",
    "sk_mlr.fit(x_tr, y_tr)\n",
    "\n",
    "{'intercept':sk_mlr.intercept_,\n",
    "'coefs' : {x.columns[i] : sk_mlr.coef_[i] for i in range(x.shape[1])}\n",
    "}"
   ]
  },
  {
   "cell_type": "markdown",
   "metadata": {},
   "source": [
    "## Predictions & Test R^2"
   ]
  },
  {
   "cell_type": "code",
   "execution_count": 157,
   "metadata": {},
   "outputs": [
    {
     "name": "stdout",
     "output_type": "stream",
     "text": [
      "TorchOLS:\t Test R^2 = 0.5861947272818564,\t Adjusted R^2 = 0.5859138276591811\n"
     ]
    }
   ],
   "source": [
    "preds = torch_mlr.predict(x_te)\n",
    "r2, adj_r2 = torch_mlr.r2_score(y_true=y_te, y_pred=preds)\n",
    "\n",
    "print(f\"TorchOLS:\\t Test R^2 = {r2},\\t Adjusted R^2 = {adj_r2}\")"
   ]
  },
  {
   "cell_type": "code",
   "execution_count": 158,
   "metadata": {},
   "outputs": [
    {
     "name": "stdout",
     "output_type": "stream",
     "text": [
      "Sklearn:\t Test R^2 = 0.586194727280809.\t\t Adjusted R^2 = 0.585913827658133\n"
     ]
    }
   ],
   "source": [
    "sk_preds = sk_mlr.predict(x_te)\n",
    "sk_r2 = sk_mlr.score(x_te, y_te)\n",
    "print(f\"Sklearn:\\t Test R^2 = {sk_r2}.\\t\\t Adjusted R^2 = {1 - (1 - sk_r2) * ((x_te.shape[0] - 1) / (x_te.shape[0] - x_te.shape[1]))}\")"
   ]
  }
 ],
 "metadata": {
  "kernelspec": {
   "display_name": "Python 3.10.4 ('.venv': venv)",
   "language": "python",
   "name": "python3"
  },
  "language_info": {
   "codemirror_mode": {
    "name": "ipython",
    "version": 3
   },
   "file_extension": ".py",
   "mimetype": "text/x-python",
   "name": "python",
   "nbconvert_exporter": "python",
   "pygments_lexer": "ipython3",
   "version": "3.10.4"
  },
  "orig_nbformat": 4,
  "vscode": {
   "interpreter": {
    "hash": "f1452af09afd32654de734d2a072d3f099472589d14c34a7ad3201b4eea227f9"
   }
  }
 },
 "nbformat": 4,
 "nbformat_minor": 2
}
