{
 "cells": [
  {
   "cell_type": "code",
   "execution_count": 1,
   "metadata": {},
   "outputs": [],
   "source": [
    "%load_ext autoreload\n",
    "%autoreload 2\n",
    "\n",
    "\n",
    "import torch\n",
    "from torch_ols.regression import LinearRegression\n",
    "\n",
    "from sklearn import linear_model ##for comparing with TorchOLS \n",
    "from sklearn.metrics import r2_score ##for evaluating sklearn model to compare with TorchOLS\n",
    "from sklearn.datasets import fetch_california_housing ##a toy dataset\n",
    "import pandas as pd ##for messing with the dataset"
   ]
  },
  {
   "cell_type": "code",
   "execution_count": 2,
   "metadata": {},
   "outputs": [],
   "source": [
    "# dataloader\n",
    "def sklearn_to_df(data_loader):\n",
    "    # California Houseing Dataset\n",
    "    # y = average house value in units of $100,000\n",
    "    # X = potential predictors of y\n",
    "\n",
    "    X_data = data_loader.data\n",
    "    X_columns = data_loader.feature_names\n",
    "    X = pd.DataFrame(X_data, columns=X_columns)\n",
    "\n",
    "    y_data = data_loader.target\n",
    "    y = pd.Series(y_data, name='target')\n",
    "\n",
    "    return X, y"
   ]
  },
  {
   "cell_type": "code",
   "execution_count": 16,
   "metadata": {},
   "outputs": [],
   "source": [
    "def adjusted_r2(r2_score, x): # for getting adj. r2 from sklearn\n",
    "    return 1 - (1 - r2_score) * ((x.shape[0] - 1) / (x.shape[0] - x.shape[1]))"
   ]
  },
  {
   "cell_type": "code",
   "execution_count": 27,
   "metadata": {},
   "outputs": [
    {
     "name": "stdout",
     "output_type": "stream",
     "text": [
      "cpu cpu\n"
     ]
    }
   ],
   "source": [
    "cpu = torch.device(\"cpu\")\n",
    "gpu = torch.device(\"cuda:0\" if torch.cuda.is_available() else \"cpu\")\n",
    "print(cpu, gpu)"
   ]
  },
  {
   "cell_type": "markdown",
   "metadata": {},
   "source": [
    "---\n",
    "# Simple Linear Regression"
   ]
  },
  {
   "cell_type": "code",
   "execution_count": 5,
   "metadata": {},
   "outputs": [],
   "source": [
    "# Use just one variable as predictor\n",
    "x, y = sklearn_to_df(fetch_california_housing()) \n",
    "##toy dataset. y = average house value in units of 100,000\n",
    "x = x[['MedInc']] \n",
    "\n",
    "div = int(len(x)*0.5) ##just split the data in half so we can have a test sample\n",
    "end = None\n",
    "x_tr = x[:div]\n",
    "y_tr = y[:div]\n",
    "x_te = x[div:end]\n",
    "y_te = y[div:end]"
   ]
  },
  {
   "cell_type": "markdown",
   "metadata": {},
   "source": [
    "## Coefficients"
   ]
  },
  {
   "cell_type": "code",
   "execution_count": 8,
   "metadata": {},
   "outputs": [
    {
     "name": "stdout",
     "output_type": "stream",
     "text": [
      "TORCH\n",
      "______________________________________________\n",
      "     Model Summary     | R^2        =   +0.48494\n",
      "   'target' = Xβ + ε   | Adj. R^2   =   +0.48494\n",
      "______________________________________________\n",
      "Intercept  |   +0.48126\n",
      "MedInc     |   +0.41985\n",
      "``````````````````````````````````````````````\n",
      "R^2        =   +0.48494\n",
      "Adj. R^2   =   +0.48494\n"
     ]
    }
   ],
   "source": [
    "print(\"TORCH\")\n",
    "torch_slr = LinearRegression(device=cpu)\n",
    "torch_slr.fit(x_tr, y_tr)\n",
    "torch_slr.summary()"
   ]
  },
  {
   "cell_type": "code",
   "execution_count": 17,
   "metadata": {},
   "outputs": [
    {
     "name": "stdout",
     "output_type": "stream",
     "text": [
      "SKLEARN\n"
     ]
    },
    {
     "data": {
      "text/plain": [
       "{'intercept': 0.4812621396162051,\n",
       " 'MedInc': 0.4198487357383301,\n",
       " 'scores': {'r2': 0.4849374063598769, 'adj_r2': 0.4849374063598769}}"
      ]
     },
     "execution_count": 17,
     "metadata": {},
     "output_type": "execute_result"
    }
   ],
   "source": [
    "print(\"SKLEARN\")\n",
    "sk_slr = linear_model.LinearRegression()\n",
    "sk_slr.fit(x_tr, y_tr)\n",
    "sk_r2 = sk_slr.score(x_tr, y_tr)\n",
    "{\"intercept\": sk_slr.intercept_.item(), \"MedInc\": sk_slr.coef_.item(),\n",
    "\"scores\" : {\n",
    "    \"r2\" : sk_r2, 'adj_r2' : adjusted_r2(sk_r2, x_tr)\n",
    "}\n",
    "}"
   ]
  },
  {
   "cell_type": "markdown",
   "metadata": {},
   "source": [
    "## Predictions & Test R^2"
   ]
  },
  {
   "cell_type": "code",
   "execution_count": 18,
   "metadata": {},
   "outputs": [
    {
     "name": "stdout",
     "output_type": "stream",
     "text": [
      "TorchOLS:\t Test R^2 = 0.4594688335880929,\t Adjusted R^2 = 0.4594688335880929\n"
     ]
    }
   ],
   "source": [
    "preds = torch_slr.predict(x_te)\n",
    "r2, a_r2 = torch_slr.r2_score(y_true=y_te, y_pred=preds)\n",
    "\n",
    "print(f\"TorchOLS:\\t Test R^2 = {r2},\\t Adjusted R^2 = {a_r2}\")"
   ]
  },
  {
   "cell_type": "code",
   "execution_count": 19,
   "metadata": {},
   "outputs": [
    {
     "name": "stdout",
     "output_type": "stream",
     "text": [
      "Sklearn:\t Test R^2 = 0.4594688335880929,\t Adjusted R^2 = 0.4594688335880929\n"
     ]
    }
   ],
   "source": [
    "sk_preds = sk_slr.predict(x_te)\n",
    "sk_r2 = sk_slr.score(x_te, y_te)\n",
    "print(f\"Sklearn:\\t Test R^2 = {sk_r2},\\t Adjusted R^2 = {adjusted_r2(sk_r2, x_te)}\")"
   ]
  },
  {
   "cell_type": "markdown",
   "metadata": {},
   "source": [
    "___\n",
    "# Multiple Linear Regression"
   ]
  },
  {
   "cell_type": "code",
   "execution_count": 20,
   "metadata": {},
   "outputs": [],
   "source": [
    "# Use all the variables as predictors\n",
    "x, y = sklearn_to_df(fetch_california_housing()) \n",
    "##toy dataset. y = average house value in units of 100,000\n",
    "\n",
    "div = int(len(x)*0.5)\n",
    "end = None\n",
    "x_tr = x[:div]\n",
    "y_tr = y[:div]\n",
    "x_te = x[div:end]\n",
    "y_te = y[div:end]"
   ]
  },
  {
   "cell_type": "markdown",
   "metadata": {},
   "source": [
    "## Coefficients"
   ]
  },
  {
   "cell_type": "code",
   "execution_count": 21,
   "metadata": {},
   "outputs": [
    {
     "name": "stdout",
     "output_type": "stream",
     "text": [
      "TORCH\n",
      "______________________________________________\n",
      "     Model Summary     | R^2        =   +0.59431\n",
      "   'target' = Xβ + ε   | Adj. R^2   =   +0.59403\n",
      "______________________________________________\n",
      "Intercept  |  -28.87182\n",
      "MedInc     |   +0.44945\n",
      "HouseAge   |   +0.00525\n",
      "AveRooms   |   -0.11519\n",
      "AveBedrms  |   +0.64983\n",
      "Population |   -0.00000\n",
      "AveOccup   |   -0.00749\n",
      "Latitude   |   -0.41276\n",
      "Longitude  |   -0.36541\n",
      "``````````````````````````````````````````````\n",
      "R^2        =   +0.59431\n",
      "Adj. R^2   =   +0.59403\n"
     ]
    }
   ],
   "source": [
    "print(\"TORCH\")\n",
    "torch_mlr = LinearRegression(device=cpu)\n",
    "torch_mlr.fit(x_tr, y_tr)\n",
    "torch_mlr.summary()"
   ]
  },
  {
   "cell_type": "code",
   "execution_count": 26,
   "metadata": {},
   "outputs": [
    {
     "name": "stdout",
     "output_type": "stream",
     "text": [
      "SKLEARN\n"
     ]
    },
    {
     "data": {
      "text/plain": [
       "{'intercept': -28.871818045412475,\n",
       " 'Bs': {'MedInc': 0.4494456752691039,\n",
       "  'HouseAge': 0.005251468965176776,\n",
       "  'AveRooms': -0.1151879647470256,\n",
       "  'AveBedrms': 0.6498316037875798,\n",
       "  'Population': -4.428311747297145e-06,\n",
       "  'AveOccup': -0.00749431094243891,\n",
       "  'Latitude': -0.41276023907180504,\n",
       "  'Longitude': -0.36541182697464963},\n",
       " 'scores': {'r2': 0.5943061238454341, 'adj_r2': 0.5940307304073928}}"
      ]
     },
     "execution_count": 26,
     "metadata": {},
     "output_type": "execute_result"
    }
   ],
   "source": [
    "print(\"SKLEARN\")\n",
    "sk_mlr = linear_model.LinearRegression()\n",
    "sk_mlr.fit(x_tr, y_tr)\n",
    "sk_r2 = sk_mlr.score(x_tr, y_tr)\n",
    "\n",
    "{'intercept':sk_mlr.intercept_,\n",
    "'Bs' : {x.columns[i] : sk_mlr.coef_[i] for i in range(x.shape[1])},\n",
    "\"scores\" : {\n",
    "    \"r2\" : sk_r2, 'adj_r2' : adjusted_r2(sk_r2, x_tr)}\n",
    "}"
   ]
  },
  {
   "cell_type": "markdown",
   "metadata": {},
   "source": [
    "## Predictions & Test R^2"
   ]
  },
  {
   "cell_type": "code",
   "execution_count": 23,
   "metadata": {},
   "outputs": [
    {
     "name": "stdout",
     "output_type": "stream",
     "text": [
      "TorchOLS:\t Test R^2 = 0.5861947272818564,\t Adjusted R^2 = 0.5859138276591811\n"
     ]
    }
   ],
   "source": [
    "preds = torch_mlr.predict(x_te)\n",
    "r2, a_r2 = torch_mlr.r2_score(y_true=y_te, y_pred=preds)\n",
    "\n",
    "print(f\"TorchOLS:\\t Test R^2 = {r2},\\t Adjusted R^2 = {a_r2}\")"
   ]
  },
  {
   "cell_type": "code",
   "execution_count": 24,
   "metadata": {},
   "outputs": [
    {
     "name": "stdout",
     "output_type": "stream",
     "text": [
      "Sklearn:\t Test R^2 = 0.586194727280809.\t\t Adjusted R^2 = 0.585913827658133\n"
     ]
    }
   ],
   "source": [
    "sk_preds = sk_mlr.predict(x_te)\n",
    "sk_r2 = sk_mlr.score(x_te, y_te)\n",
    "print(f\"Sklearn:\\t Test R^2 = {sk_r2}.\\t\\t Adjusted R^2 = {adjusted_r2(sk_r2, x_te)}\")"
   ]
  }
 ],
 "metadata": {
  "kernelspec": {
   "display_name": "Python 3.10.4 ('.venv': venv)",
   "language": "python",
   "name": "python3"
  },
  "language_info": {
   "codemirror_mode": {
    "name": "ipython",
    "version": 3
   },
   "file_extension": ".py",
   "mimetype": "text/x-python",
   "name": "python",
   "nbconvert_exporter": "python",
   "pygments_lexer": "ipython3",
   "version": "3.10.4"
  },
  "orig_nbformat": 4,
  "vscode": {
   "interpreter": {
    "hash": "f1452af09afd32654de734d2a072d3f099472589d14c34a7ad3201b4eea227f9"
   }
  }
 },
 "nbformat": 4,
 "nbformat_minor": 2
}
